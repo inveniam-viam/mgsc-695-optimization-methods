{
 "cells": [
  {
   "cell_type": "markdown",
   "metadata": {},
   "source": [
    "### MGSC 695 - Optimization for Data Science\n",
    "\n",
    "#### Winter 2024, Dr.Sanjith Gopalakrishnan\n",
    "\n",
    "### Assignment 2\n",
    "\n",
    "#### Submitted by Jared Balakrishnan (McGill ID #261175926)"
   ]
  },
  {
   "cell_type": "code",
   "execution_count": 104,
   "metadata": {},
   "outputs": [],
   "source": [
    "from pathlib import Path \n",
    "import gurobipy as gb\n",
    "from gurobipy import *\n",
    "import pandas as pd \n",
    "import numpy as np"
   ]
  },
  {
   "cell_type": "code",
   "execution_count": 105,
   "metadata": {},
   "outputs": [],
   "source": [
    "dataset_path = Path().absolute() / \"datasets\"\n",
    "\n",
    "def read_dataset(file_path: Path) -> pd.DataFrame:\n",
    "\n",
    "    return pd.read_csv(file_path)"
   ]
  },
  {
   "cell_type": "code",
   "execution_count": 106,
   "metadata": {},
   "outputs": [],
   "source": [
    "advertising_df = read_dataset(dataset_path / \"advertising.csv\")"
   ]
  },
  {
   "cell_type": "code",
   "execution_count": 107,
   "metadata": {},
   "outputs": [
    {
     "data": {
      "text/html": [
       "<div>\n",
       "<style scoped>\n",
       "    .dataframe tbody tr th:only-of-type {\n",
       "        vertical-align: middle;\n",
       "    }\n",
       "\n",
       "    .dataframe tbody tr th {\n",
       "        vertical-align: top;\n",
       "    }\n",
       "\n",
       "    .dataframe thead th {\n",
       "        text-align: right;\n",
       "    }\n",
       "</style>\n",
       "<table border=\"1\" class=\"dataframe\">\n",
       "  <thead>\n",
       "    <tr style=\"text-align: right;\">\n",
       "      <th></th>\n",
       "      <th>Unnamed: 0</th>\n",
       "      <th>TV</th>\n",
       "      <th>Radio</th>\n",
       "      <th>Newspaper</th>\n",
       "      <th>Sales</th>\n",
       "    </tr>\n",
       "  </thead>\n",
       "  <tbody>\n",
       "    <tr>\n",
       "      <th>0</th>\n",
       "      <td>1</td>\n",
       "      <td>230.1</td>\n",
       "      <td>37.8</td>\n",
       "      <td>69.2</td>\n",
       "      <td>22.1</td>\n",
       "    </tr>\n",
       "    <tr>\n",
       "      <th>1</th>\n",
       "      <td>2</td>\n",
       "      <td>44.5</td>\n",
       "      <td>39.3</td>\n",
       "      <td>45.1</td>\n",
       "      <td>10.4</td>\n",
       "    </tr>\n",
       "    <tr>\n",
       "      <th>2</th>\n",
       "      <td>3</td>\n",
       "      <td>17.2</td>\n",
       "      <td>45.9</td>\n",
       "      <td>69.3</td>\n",
       "      <td>9.3</td>\n",
       "    </tr>\n",
       "    <tr>\n",
       "      <th>3</th>\n",
       "      <td>4</td>\n",
       "      <td>151.5</td>\n",
       "      <td>41.3</td>\n",
       "      <td>58.5</td>\n",
       "      <td>18.5</td>\n",
       "    </tr>\n",
       "    <tr>\n",
       "      <th>4</th>\n",
       "      <td>5</td>\n",
       "      <td>180.8</td>\n",
       "      <td>10.8</td>\n",
       "      <td>58.4</td>\n",
       "      <td>12.9</td>\n",
       "    </tr>\n",
       "  </tbody>\n",
       "</table>\n",
       "</div>"
      ],
      "text/plain": [
       "   Unnamed: 0     TV  Radio  Newspaper  Sales\n",
       "0           1  230.1   37.8       69.2   22.1\n",
       "1           2   44.5   39.3       45.1   10.4\n",
       "2           3   17.2   45.9       69.3    9.3\n",
       "3           4  151.5   41.3       58.5   18.5\n",
       "4           5  180.8   10.8       58.4   12.9"
      ]
     },
     "execution_count": 107,
     "metadata": {},
     "output_type": "execute_result"
    }
   ],
   "source": [
    "advertising_df.head(5)"
   ]
  },
  {
   "cell_type": "markdown",
   "metadata": {},
   "source": [
    "For a linear regression model, the L1 loss function can be written as:\n",
    "\n",
    "$$\n",
    " y_i - (\\beta_0 + \\beta_1 x_{i1} + \\ldots + \\beta_p x_{ip}) \n",
    " $$\n",
    "\n",
    "Choosing parameters such that the sum of absolute errors is minimized, ie minimizing the L1 loss function can therefore be written as:\n",
    "\n",
    "$$\n",
    "\\text{minimize} \\sum_{i=1}^{n} \\left| y_i - (\\beta_0 + \\beta_1 x_{i1} + \\ldots + \\beta_p x_{ip}) \\right|\n",
    "$$\n",
    "\n",
    "The L1 loss function can be expressed as: \n",
    "\n",
    "$$\n",
    "\\left| y_i - (\\beta_0 + \\beta_1 x_{i1} + \\ldots + \\beta_p x_{ip}) \\right| = \\text{max} \\{ y_i - (\\beta_0 + \\beta_1 x_{i1} + \\ldots + \\beta_p x_{ip}), (\\beta_0 + \\beta_1 x_{i1} + \\ldots + \\beta_p x_{ip}) - y_i \\}\n",
    "$$\n",
    "\n",
    "Let's say $y_i - (\\beta_0 + \\beta_1 x_{i1} + \\ldots + \\beta_p x_{ip}) = w$\n",
    "\n",
    "We can therefore write:\n",
    "\n",
    "$$\n",
    " w \\geq \\text{max} \\{ y_i - (\\beta_0 + \\beta_1 x_{i1} + \\ldots + \\beta_p x_{ip}), (\\beta_0 + \\beta_1 x_{i1} + \\ldots + \\beta_p x_{ip}) - y_i \\}\n",
    " $$\n",
    "\n",
    " $$\n",
    " w \\geq y_i - (\\beta_0 + \\beta_1 x_{i1} + \\ldots + \\beta_p x_{ip})\n",
    " $$\n",
    "\n",
    "  $$\n",
    " w \\geq (\\beta_0 + \\beta_1 x_{i1} + \\ldots + \\beta_p x_{ip}) - y_i\n",
    " $$\n",
    "\n",
    " Therefore we can formulate the linear program as being:\n",
    " \n",
    " $$\n",
    " \\text{min}(w) \\\\\n",
    " \\text{such that } w \\geq y_i - (\\beta_0 + \\beta_1 x_{i1} + \\ldots + \\beta_p x_{ip}) \\\\\n",
    " w \\geq (\\beta_0 + \\beta_1 x_{i1} + \\ldots + \\beta_p x_{ip}) - y_i\n",
    " $$\n",
    "\n",
    " Considering the dataset we are working with seems to be dealing with advertising, it's hard to imagine negative amounts of money being spent on any advertising medium, because of which we can also write a non-negativity constraint as follows:\n",
    "\n",
    " $$\n",
    " x_{ip} \\geq 0 \\\\\n",
    " i = 1, 2, \\cdots, n \\\\\n",
    " p = 1, 2, 3\n",
    " $$"
   ]
  },
  {
   "cell_type": "markdown",
   "metadata": {},
   "source": [
    "## Setting up the Gurobi Model"
   ]
  },
  {
   "cell_type": "code",
   "execution_count": 108,
   "metadata": {},
   "outputs": [],
   "source": [
    "linearRegModel = gb.Model(\"Linear Regression Model (L1 Loss Function)\")"
   ]
  },
  {
   "cell_type": "code",
   "execution_count": 109,
   "metadata": {},
   "outputs": [],
   "source": [
    "# Initializing Decision Variables\n",
    "\n",
    "Beta = linearRegModel.addVars(4, vtype = GRB.CONTINUOUS, name = [f\"Beta_{i}\" for i in range(4)])\n",
    "W = linearRegModel.addVars(len(advertising_df), lb = 0, vtype = GRB.CONTINUOUS)"
   ]
  },
  {
   "cell_type": "code",
   "execution_count": 110,
   "metadata": {},
   "outputs": [],
   "source": [
    "# Initializing the expression for the objective function\n",
    "sum_exp = gb.quicksum(W[i] for i in range(len(advertising_df)))\n",
    "linearRegModel.setObjective(sum_exp, GRB.MINIMIZE)"
   ]
  },
  {
   "cell_type": "code",
   "execution_count": 111,
   "metadata": {},
   "outputs": [],
   "source": [
    "# Setting up the constraints"
   ]
  },
  {
   "cell_type": "code",
   "execution_count": 112,
   "metadata": {},
   "outputs": [],
   "source": [
    "\n",
    "for index, row in advertising_df.iterrows():\n",
    "\n",
    "    linearRegModel.addConstr(W[index] >= row['Sales'] - (Beta[0] + Beta[1]*row['TV'] + Beta[2]*row['Radio'] + Beta[3]*row['Newspaper']), name = \"Absolute Value - Positive\")\n",
    "    linearRegModel.addConstr(W[index] >= -row['Sales'] + (Beta[0] + Beta[1]*row['TV'] + Beta[2]*row['Radio'] + Beta[3]*row['Newspaper']), name = \"Absolute Value - Negative\")\n",
    "\n",
    "    "
   ]
  },
  {
   "cell_type": "code",
   "execution_count": 113,
   "metadata": {},
   "outputs": [
    {
     "name": "stdout",
     "output_type": "stream",
     "text": [
      "Gurobi Optimizer version 10.0.0 build v10.0.0rc2 (mac64[arm])\n",
      "\n",
      "CPU model: Apple M1 Pro\n",
      "Thread count: 10 physical cores, 10 logical processors, using up to 10 threads\n",
      "\n",
      "Optimize a model with 400 rows, 204 columns and 1998 nonzeros\n",
      "Model fingerprint: 0x983d2b74\n",
      "Coefficient statistics:\n",
      "  Matrix range     [3e-01, 3e+02]\n",
      "  Objective range  [1e+00, 1e+00]\n",
      "  Bounds range     [0e+00, 0e+00]\n",
      "  RHS range        [2e+00, 3e+01]\n",
      "Presolve time: 0.00s\n",
      "Presolved: 400 rows, 204 columns, 1998 nonzeros\n",
      "\n",
      "Iteration    Objective       Primal Inf.    Dual Inf.      Time\n",
      "       0    0.0000000e+00   3.497438e+02   0.000000e+00      0s\n",
      "     245    2.4251181e+02   0.000000e+00   0.000000e+00      0s\n",
      "\n",
      "Solved in 245 iterations and 0.01 seconds (0.01 work units)\n",
      "Optimal objective  2.425118112e+02\n"
     ]
    }
   ],
   "source": [
    "linearRegModel.optimize()"
   ]
  },
  {
   "cell_type": "code",
   "execution_count": 114,
   "metadata": {},
   "outputs": [
    {
     "name": "stdout",
     "output_type": "stream",
     "text": [
      "Beta_0 3.2797893774713356\n",
      "Beta_1 0.04382140799173407\n",
      "Beta_2 0.1967413118206927\n",
      "Beta_3 0.0\n",
      "C4 1.3000830568084734\n",
      "C5 2.561775587656723\n",
      "C6 3.763943807498955\n",
      "C7 0.45585113358634466\n",
      "C8 0.4275061100403361\n",
      "C9 6.0816857750312945\n",
      "C10 0.4526353647147636\n",
      "C11 0.7967476702366518\n",
      "C12 0.7301897589762966\n",
      "C13 1.946834104953603\n",
      "C14 1.2825159457150255\n",
      "C15 0.010037156993266905\n",
      "C16 2.028358932580921\n",
      "C17 0.6523893734973276\n",
      "C18 0.30347209251495144\n",
      "C19 1.172946927096783\n",
      "C20 0.9516128519482585\n",
      "C21 0.9979104655552664\n",
      "C22 0.9545722971764672\n",
      "C23 0.16319987283167947\n",
      "C24 0.3001192202992442\n",
      "C25 2.186372324994535\n",
      "C26 1.3864188209112396\n",
      "C27 1.1091449917539293\n",
      "C28 1.2111963757029036\n",
      "C29 3.4890321298706457\n",
      "C30 0.3063890158364311\n",
      "C31 1.1868893436922523\n",
      "C32 0.614245236155547\n",
      "C33 0.9785582291811563\n",
      "C34 0.2828589027758479\n",
      "C35 0.24947483458183495\n",
      "C36 1.7656577980010741\n",
      "C37 1.4535815764897606\n",
      "C38 1.7510640411707445\n",
      "C39 4.0253120591332685\n",
      "C40 1.807007371788501\n",
      "C41 1.572269358396091\n",
      "C42 0.3214850875275692\n",
      "C43 0.811782144773181\n",
      "C44 0.05904425060106888\n",
      "C45 0.5073384068194002\n",
      "C46 0.8954891012776489\n",
      "C47 1.0990657102549335\n",
      "C48 0.9359584318556624\n",
      "C49 0.47959743278955624\n",
      "C50 1.4416913386452608\n",
      "C51 1.2426904047529135\n",
      "C52 1.5445259999602587\n",
      "C53 1.1866850795795507\n",
      "C54 1.245204760863949\n",
      "C55 1.1318246666799139\n",
      "C56 1.6331452301945273\n",
      "C57 0.8289729171220195\n",
      "C58 0.257823037335827\n",
      "C59 1.9851117690305369\n",
      "C60 3.6281165179724595\n",
      "C61 0.17430166709718442\n",
      "C62 1.5242887515647627\n",
      "C63 0.08317125995985997\n",
      "C64 2.0822826713295064\n",
      "C65 1.068822699544972\n",
      "C66 1.1157426431140358\n",
      "C67 0.3962091918850712\n",
      "C68 0.5546958888866813\n",
      "C69 1.1668392711665727\n",
      "C70 0.0\n",
      "C71 1.1631394678800655\n",
      "C72 0.19337770977805313\n",
      "C73 0.8827857809923074\n",
      "C74 0.27508414966121464\n",
      "C75 1.4952192660003583\n",
      "C76 2.1466664017326673\n",
      "C77 0.9282949510203276\n",
      "C78 0.47111411369642653\n",
      "C79 3.917966499095914\n",
      "C80 2.10033580384287\n",
      "C81 0.03260357263496605\n",
      "C82 4.098990204065411\n",
      "C83 1.1220191944681792\n",
      "C84 0.08073797365231306\n",
      "C85 2.294802392354006\n",
      "C86 0.7266099707910278\n",
      "C87 1.432162060126772\n",
      "C88 0.6044636080036536\n",
      "C89 0.16612553897510196\n",
      "C90 0.033748882309694306\n",
      "C91 0.11851650207642095\n",
      "C92 0.7338768454308826\n",
      "C93 0.7956146799928483\n",
      "C94 1.0709631013173846\n",
      "C95 2.47180638623403\n",
      "C96 0.010543843265049091\n",
      "C97 0.7443614759473007\n",
      "C98 0.759413038726727\n",
      "C99 0.24714924394459903\n",
      "C100 0.927494188010412\n",
      "C101 0.01393526337751183\n",
      "C102 1.102991237308002\n",
      "C103 0.20855644087666825\n",
      "C104 2.171658155661971\n",
      "C105 0.3898356746875429\n",
      "C106 2.745635146144215\n",
      "C107 0.19778250243408202\n",
      "C108 0.2337242434478508\n",
      "C109 0.7484415919883949\n",
      "C110 0.6605209927076932\n",
      "C111 1.3997329465296962\n",
      "C112 1.367453653108671\n",
      "C113 0.03588173346315138\n",
      "C114 1.3879420589345681\n",
      "C115 0.4524064617402175\n",
      "C116 0.09097303634232112\n",
      "C117 0.617627516045065\n",
      "C118 1.314116875633358\n",
      "C119 0.8567230313748091\n",
      "C120 0.006869871043376108\n",
      "C121 2.6148620025036275\n",
      "C122 0.14789476821586778\n",
      "C123 0.6777856816420602\n",
      "C124 0.7555785165020756\n",
      "C125 1.3729183142249677\n",
      "C126 1.9679639159894293\n",
      "C127 0.28145409024976775\n",
      "C128 0.008453116617323175\n",
      "C129 1.1774363661652796\n",
      "C130 4.674833389631808\n",
      "C131 2.005733701591593\n",
      "C132 2.126030162735706\n",
      "C133 1.447558964373001\n",
      "C134 9.501420311164981\n",
      "C135 2.7717765811592194\n",
      "C136 3.2992528861247434\n",
      "C137 0.09743119995231098\n",
      "C138 1.6910139686450605\n",
      "C139 3.043205039044649\n",
      "C140 2.5745285830667433\n",
      "C141 0.15953265642696834\n",
      "C142 0.6597098972718414\n",
      "C143 0.6806886959286231\n",
      "C144 1.0591169749836085\n",
      "C145 0.46736145607725277\n",
      "C146 0.6257786079043051\n",
      "C147 1.4150658692153337\n",
      "C148 0.9928197587775953\n",
      "C149 0.49825858882905916\n",
      "C150 2.037521012577743\n",
      "C151 1.8225199197249964\n",
      "C152 1.973677747531145\n",
      "C153 0.2145321596757206\n",
      "C154 2.215162835058715\n",
      "C155 1.3651932362350232\n",
      "C156 0.077027837939875\n",
      "C157 0.40297335426311687\n",
      "C158 0.06069147773560957\n",
      "C159 2.54165636735748\n",
      "C160 0.6528666520952964\n",
      "C161 0.0\n",
      "C162 3.752254257158185\n",
      "C163 0.22889105251654307\n",
      "C164 0.0\n",
      "C165 0.7786230055437429\n",
      "C166 0.19676038706857213\n",
      "C167 0.31533014087865396\n",
      "C168 0.5922443221332498\n",
      "C169 2.3248300117233285\n",
      "C170 3.461665904981421\n",
      "C171 1.1651113716295427\n",
      "C172 0.26201561785920013\n",
      "C173 2.823673574820674\n",
      "C174 0.6469410058219265\n",
      "C175 0.10030440916406658\n",
      "C176 0.4931893417052472\n",
      "C177 0.3561777972062714\n",
      "C178 2.194590975023347\n",
      "C179 1.96541260158563\n",
      "C180 0.09338526039700312\n",
      "C181 0.5727752498658774\n",
      "C182 4.057677985971745\n",
      "C183 0.09597234089057505\n",
      "C184 0.1537492797106914\n",
      "C185 1.7171701074969699\n",
      "C186 1.836022016015261\n",
      "C187 1.8572972758161583\n",
      "C188 0.9922526675541956\n",
      "C189 1.4637888211099401\n",
      "C190 0.4939674528583087\n",
      "C191 0.0005360939455947289\n",
      "C192 2.6474162974149067\n",
      "C193 0.22018042005285587\n",
      "C194 2.296802908975301\n",
      "C195 1.1868881514892622\n",
      "C196 1.0598430266059988\n",
      "C197 0.7476646730383285\n",
      "C198 0.45615514534941504\n",
      "C199 1.91828998350786\n",
      "C200 1.3282015617859209\n",
      "C201 0.0658727919407065\n",
      "C202 1.5293242196037884\n",
      "C203 1.7427134540107687\n"
     ]
    }
   ],
   "source": [
    "for v in linearRegModel.getVars():\n",
    "\n",
    "    print(v.varName, v.x)"
   ]
  },
  {
   "cell_type": "markdown",
   "metadata": {},
   "source": [
    "## Comparison of Parameter Estimates to a Linear Regression model with an L2 Loss Function\n",
    "\n",
    "|    |   L1 Loss Function |   L2 Loss Function |        delta |\n",
    "|---:|-----------------:|--------------------------:|-------------:|\n",
    "|  0 |       3.279    |                2.93889    | 0.34011 |\n",
    "|  1 |       0.0438  |                0.0457646  | -0.0019646 |\n",
    "|  2 |       0.1967    |                0.18853    | 0.00817 |\n",
    "|  3 |      0.00 |               -0.00103749 |  -0.00103749 |\n",
    "\n",
    "\n",
    "Please note Coefficient/Parameter 0 refers to the intercept!"
   ]
  },
  {
   "cell_type": "markdown",
   "metadata": {},
   "source": [
    "## Problem 2: INCOMPLETE"
   ]
  },
  {
   "cell_type": "code",
   "execution_count": 115,
   "metadata": {},
   "outputs": [],
   "source": [
    "from sklearn.datasets import make_blobs"
   ]
  },
  {
   "cell_type": "code",
   "execution_count": 116,
   "metadata": {},
   "outputs": [],
   "source": [
    "X, y = make_blobs(n_samples = 500, n_features = 2, centers = 2, random_state= 42)"
   ]
  },
  {
   "cell_type": "code",
   "execution_count": 117,
   "metadata": {},
   "outputs": [],
   "source": [
    "from matplotlib import pyplot as plt"
   ]
  },
  {
   "cell_type": "code",
   "execution_count": 120,
   "metadata": {},
   "outputs": [
    {
     "data": {
      "text/plain": [
       "<matplotlib.collections.PathCollection at 0x298cdea50>"
      ]
     },
     "execution_count": 120,
     "metadata": {},
     "output_type": "execute_result"
    },
    {
     "data": {
      "image/png": "[encoded data removed]",
      "text/plain": [
       "<Figure size 640x480 with 1 Axes>"
      ]
     },
     "metadata": {},
     "output_type": "display_data"
    }
   ],
   "source": [
    "plt.scatter(X[:, 0], X[:, 1], c = y)"
   ]
  },
  {
   "cell_type": "code",
   "execution_count": null,
   "metadata": {},
   "outputs": [],
   "source": []
  }
 ],
 "metadata": {
  "kernelspec": {
   "display_name": "Python 3",
   "language": "python",
   "name": "python3"
  },
  "language_info": {
   "codemirror_mode": {
    "name": "ipython",
    "version": 3
   },
   "file_extension": ".py",
   "mimetype": "text/x-python",
   "name": "python",
   "nbconvert_exporter": "python",
   "pygments_lexer": "ipython3",
   "version": "3.11.7"
  }
 },
 "nbformat": 4,
 "nbformat_minor": 2
}
