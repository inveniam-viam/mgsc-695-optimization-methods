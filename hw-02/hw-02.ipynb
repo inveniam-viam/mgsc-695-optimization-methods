{
 "cells": [
  {
   "cell_type": "markdown",
   "metadata": {},
   "source": [
    "### MGSC 695 - Optimization for Data Science\n",
    "\n",
    "#### Winter 2024, Dr.Sanjith Gopalakrishnan\n",
    "\n",
    "### Assignment 2\n",
    "\n",
    "#### Submitted by Jared Balakrishnan (McGill ID #261175926)"
   ]
  },
  {
   "cell_type": "code",
   "execution_count": 70,
   "metadata": {},
   "outputs": [],
   "source": [
    "from pathlib import Path \n",
    "import gurobipy as gb\n",
    "from gurobipy import *\n",
    "import pandas as pd \n",
    "import numpy as np"
   ]
  },
  {
   "cell_type": "code",
   "execution_count": 71,
   "metadata": {},
   "outputs": [],
   "source": [
    "dataset_path = Path().absolute() / \"datasets\"\n",
    "\n",
    "def read_dataset(file_path: Path) -> pd.DataFrame:\n",
    "\n",
    "    return pd.read_csv(file_path)"
   ]
  },
  {
   "cell_type": "code",
   "execution_count": 72,
   "metadata": {},
   "outputs": [],
   "source": [
    "advertising_df = read_dataset(dataset_path / \"advertising.csv\")"
   ]
  },
  {
   "cell_type": "code",
   "execution_count": 73,
   "metadata": {},
   "outputs": [
    {
     "data": {
      "text/html": [
       "<div>\n",
       "<style scoped>\n",
       "    .dataframe tbody tr th:only-of-type {\n",
       "        vertical-align: middle;\n",
       "    }\n",
       "\n",
       "    .dataframe tbody tr th {\n",
       "        vertical-align: top;\n",
       "    }\n",
       "\n",
       "    .dataframe thead th {\n",
       "        text-align: right;\n",
       "    }\n",
       "</style>\n",
       "<table border=\"1\" class=\"dataframe\">\n",
       "  <thead>\n",
       "    <tr style=\"text-align: right;\">\n",
       "      <th></th>\n",
       "      <th>Unnamed: 0</th>\n",
       "      <th>TV</th>\n",
       "      <th>Radio</th>\n",
       "      <th>Newspaper</th>\n",
       "      <th>Sales</th>\n",
       "    </tr>\n",
       "  </thead>\n",
       "  <tbody>\n",
       "    <tr>\n",
       "      <th>0</th>\n",
       "      <td>1</td>\n",
       "      <td>230.1</td>\n",
       "      <td>37.8</td>\n",
       "      <td>69.2</td>\n",
       "      <td>22.1</td>\n",
       "    </tr>\n",
       "    <tr>\n",
       "      <th>1</th>\n",
       "      <td>2</td>\n",
       "      <td>44.5</td>\n",
       "      <td>39.3</td>\n",
       "      <td>45.1</td>\n",
       "      <td>10.4</td>\n",
       "    </tr>\n",
       "    <tr>\n",
       "      <th>2</th>\n",
       "      <td>3</td>\n",
       "      <td>17.2</td>\n",
       "      <td>45.9</td>\n",
       "      <td>69.3</td>\n",
       "      <td>9.3</td>\n",
       "    </tr>\n",
       "    <tr>\n",
       "      <th>3</th>\n",
       "      <td>4</td>\n",
       "      <td>151.5</td>\n",
       "      <td>41.3</td>\n",
       "      <td>58.5</td>\n",
       "      <td>18.5</td>\n",
       "    </tr>\n",
       "    <tr>\n",
       "      <th>4</th>\n",
       "      <td>5</td>\n",
       "      <td>180.8</td>\n",
       "      <td>10.8</td>\n",
       "      <td>58.4</td>\n",
       "      <td>12.9</td>\n",
       "    </tr>\n",
       "  </tbody>\n",
       "</table>\n",
       "</div>"
      ],
      "text/plain": [
       "   Unnamed: 0     TV  Radio  Newspaper  Sales\n",
       "0           1  230.1   37.8       69.2   22.1\n",
       "1           2   44.5   39.3       45.1   10.4\n",
       "2           3   17.2   45.9       69.3    9.3\n",
       "3           4  151.5   41.3       58.5   18.5\n",
       "4           5  180.8   10.8       58.4   12.9"
      ]
     },
     "execution_count": 73,
     "metadata": {},
     "output_type": "execute_result"
    }
   ],
   "source": [
    "advertising_df.head(5)"
   ]
  },
  {
   "cell_type": "markdown",
   "metadata": {},
   "source": [
    "For a linear regression model, the L1 loss function can be written as:\n",
    "\n",
    "$$\n",
    " y_i - (\\beta_0 + \\beta_1 x_{i1} + \\ldots + \\beta_p x_{ip}) \n",
    " $$\n",
    "\n",
    "Choosing parameters such that the sum of absolute errors is minimized, ie minimizing the L1 loss function can therefore be written as:\n",
    "\n",
    "$$\n",
    "\\text{minimize} \\sum_{i=1}^{n} \\left| y_i - (\\beta_0 + \\beta_1 x_{i1} + \\ldots + \\beta_p x_{ip}) \\right|\n",
    "$$\n",
    "\n",
    "The L1 loss function can be expressed as: \n",
    "\n",
    "$$\n",
    "\\left| y_i - (\\beta_0 + \\beta_1 x_{i1} + \\ldots + \\beta_p x_{ip}) \\right| = \\text{max} \\{ y_i - (\\beta_0 + \\beta_1 x_{i1} + \\ldots + \\beta_p x_{ip}), (\\beta_0 + \\beta_1 x_{i1} + \\ldots + \\beta_p x_{ip}) - y_i \\}\n",
    "$$\n",
    "\n",
    "Let's say $y_i - (\\beta_0 + \\beta_1 x_{i1} + \\ldots + \\beta_p x_{ip}) = w$\n",
    "\n",
    "We can therefore write:\n",
    "\n",
    "$$\n",
    " w \\geq \\text{max} \\{ y_i - (\\beta_0 + \\beta_1 x_{i1} + \\ldots + \\beta_p x_{ip}), (\\beta_0 + \\beta_1 x_{i1} + \\ldots + \\beta_p x_{ip}) - y_i \\}\n",
    " $$\n",
    "\n",
    " $$\n",
    " w \\geq y_i - (\\beta_0 + \\beta_1 x_{i1} + \\ldots + \\beta_p x_{ip})\n",
    " $$\n",
    "\n",
    "  $$\n",
    " w \\geq (\\beta_0 + \\beta_1 x_{i1} + \\ldots + \\beta_p x_{ip}) - y_i\n",
    " $$\n",
    "\n",
    " Therefore we can formulate the linear program as being:\n",
    " \n",
    " $$\n",
    " \\text{min}(w) \\\\\n",
    " \\text{such that } w \\geq y_i - (\\beta_0 + \\beta_1 x_{i1} + \\ldots + \\beta_p x_{ip}) \\\\\n",
    " w \\geq (\\beta_0 + \\beta_1 x_{i1} + \\ldots + \\beta_p x_{ip}) - y_i\n",
    " $$\n",
    "\n",
    " Considering the dataset we are working with seems to be dealing with advertising, it's hard to imagine negative amounts of money being spent on any advertising medium, because of which we can also write a non-negativity constraint as follows:\n",
    "\n",
    " $$\n",
    " x_{ip} \\geq 0 \\\\\n",
    " i = 1, 2, \\cdots, n \\\\\n",
    " p = 1, 2, 3\n",
    " $$"
   ]
  },
  {
   "cell_type": "markdown",
   "metadata": {},
   "source": [
    "## Setting up the Gurobi Model"
   ]
  },
  {
   "cell_type": "code",
   "execution_count": 74,
   "metadata": {},
   "outputs": [],
   "source": [
    "linearRegModel = gb.Model(\"Linear Regression Model (L1 Loss Function)\")"
   ]
  },
  {
   "cell_type": "code",
   "execution_count": 75,
   "metadata": {},
   "outputs": [],
   "source": [
    "# Initializing Decision Variables\n",
    "\n",
    "Beta = linearRegModel.addVars(4, vtype = GRB.CONTINUOUS, name = [f\"Beta_{i}\" for i in range(4)])\n",
    "W = linearRegModel.addVar(lb = 0, vtype = GRB.CONTINUOUS)"
   ]
  },
  {
   "cell_type": "code",
   "execution_count": 76,
   "metadata": {},
   "outputs": [],
   "source": [
    "# Initializing the expression for the objective function\n",
    "\n",
    "linearRegModel.setObjective(W, GRB.MINIMIZE)"
   ]
  },
  {
   "cell_type": "code",
   "execution_count": 77,
   "metadata": {},
   "outputs": [],
   "source": [
    "# Setting up the constraints"
   ]
  },
  {
   "cell_type": "code",
   "execution_count": 78,
   "metadata": {},
   "outputs": [],
   "source": [
    "exp_pos: float  = 0\n",
    "\n",
    "for index, row in advertising_df.iterrows():\n",
    "\n",
    "    exp_pos += row['Sales'] - (Beta[0] + Beta[1]*row['TV'] + Beta[2]*row['Radio'] + Beta[3]*row['Newspaper'])"
   ]
  },
  {
   "cell_type": "code",
   "execution_count": 79,
   "metadata": {},
   "outputs": [],
   "source": [
    "exp_neg: float  = 0\n",
    "\n",
    "for index, row in advertising_df.iterrows():\n",
    "\n",
    "    exp_neg += (Beta[0] + Beta[1]*row['TV'] + Beta[2]*row['Radio'] + Beta[3]*row['Newspaper']) - row['Sales']"
   ]
  },
  {
   "cell_type": "code",
   "execution_count": 80,
   "metadata": {},
   "outputs": [
    {
     "data": {
      "text/plain": [
       "<gurobi.Constr *Awaiting Model Update*>"
      ]
     },
     "execution_count": 80,
     "metadata": {},
     "output_type": "execute_result"
    }
   ],
   "source": [
    "linearRegModel.addConstr(W >= exp_pos, name = \"Absolute Value - Positive\")\n",
    "linearRegModel.addConstr(W >= exp_neg, name = \"Absolute Value - Negative\")"
   ]
  },
  {
   "cell_type": "code",
   "execution_count": 81,
   "metadata": {},
   "outputs": [
    {
     "name": "stdout",
     "output_type": "stream",
     "text": [
      "Gurobi Optimizer version 10.0.0 build v10.0.0rc2 (mac64[arm])\n",
      "\n",
      "CPU model: Apple M1 Pro\n",
      "Thread count: 10 physical cores, 10 logical processors, using up to 10 threads\n",
      "\n",
      "Optimize a model with 2 rows, 5 columns and 10 nonzeros\n",
      "Model fingerprint: 0xda56eeea\n",
      "Coefficient statistics:\n",
      "  Matrix range     [1e+00, 3e+04]\n",
      "  Objective range  [1e+00, 1e+00]\n",
      "  Bounds range     [0e+00, 0e+00]\n",
      "  RHS range        [3e+03, 3e+03]\n",
      "Presolve removed 2 rows and 5 columns\n",
      "Presolve time: 0.00s\n",
      "Presolve: All rows and columns removed\n",
      "Iteration    Objective       Primal Inf.    Dual Inf.      Time\n",
      "       0    0.0000000e+00   0.000000e+00   0.000000e+00      0s\n",
      "\n",
      "Solved in 0 iterations and 0.00 seconds (0.00 work units)\n",
      "Optimal objective  0.000000000e+00\n"
     ]
    }
   ],
   "source": [
    "linearRegModel.optimize()"
   ]
  },
  {
   "cell_type": "code",
   "execution_count": 82,
   "metadata": {},
   "outputs": [
    {
     "name": "stdout",
     "output_type": "stream",
     "text": [
      "Beta_0 14.022500000000003\n",
      "Beta_1 0.0\n",
      "Beta_2 0.0\n",
      "Beta_3 0.0\n",
      "C4 0.0\n"
     ]
    }
   ],
   "source": [
    "for v in linearRegModel.getVars():\n",
    "\n",
    "    print(v.varName, v.x)"
   ]
  },
  {
   "cell_type": "code",
   "execution_count": null,
   "metadata": {},
   "outputs": [],
   "source": []
  }
 ],
 "metadata": {
  "kernelspec": {
   "display_name": "Python 3",
   "language": "python",
   "name": "python3"
  },
  "language_info": {
   "codemirror_mode": {
    "name": "ipython",
    "version": 3
   },
   "file_extension": ".py",
   "mimetype": "text/x-python",
   "name": "python",
   "nbconvert_exporter": "python",
   "pygments_lexer": "ipython3",
   "version": "3.11.7"
  }
 },
 "nbformat": 4,
 "nbformat_minor": 2
}
